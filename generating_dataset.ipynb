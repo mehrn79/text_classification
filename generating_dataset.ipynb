{
  "nbformat": 4,
  "nbformat_minor": 0,
  "metadata": {
    "colab": {
      "name": "Untitled4.ipynb",
      "provenance": [],
      "collapsed_sections": [],
      "authorship_tag": "ABX9TyNJJySJpm/BQp1mViKQoJxE",
      "include_colab_link": true
    },
    "kernelspec": {
      "name": "python3",
      "display_name": "Python 3"
    },
    "language_info": {
      "name": "python"
    }
  },
  "cells": [
    {
      "cell_type": "markdown",
      "metadata": {
        "id": "view-in-github",
        "colab_type": "text"
      },
      "source": [
        "<a href=\"https://colab.research.google.com/github/mehrn79/text_classification/blob/dataset/generating_dataset.ipynb\" target=\"_parent\"><img src=\"https://colab.research.google.com/assets/colab-badge.svg\" alt=\"Open In Colab\"/></a>"
      ]
    },
    {
      "cell_type": "markdown",
      "source": [
        "# **Make a csv file**"
      ],
      "metadata": {
        "id": "VDXpG3--F8dS"
      }
    },
    {
      "cell_type": "markdown",
      "source": [
        "## **download data**"
      ],
      "metadata": {
        "id": "9B63pijFHPgM"
      }
    },
    {
      "cell_type": "code",
      "execution_count": null,
      "metadata": {
        "id": "5jfwiPXBSh--"
      },
      "outputs": [],
      "source": [
        "! gdown --id 1D3yt99D0GcCRCbdKbUQGxbqjkeh91hTg"
      ]
    },
    {
      "cell_type": "markdown",
      "source": [
        "## **unrar folder**"
      ],
      "metadata": {
        "id": "fv3YxYAtHcPt"
      }
    },
    {
      "cell_type": "code",
      "source": [
        "!pip install unrar"
      ],
      "metadata": {
        "id": "kCTGO1njVqTj"
      },
      "execution_count": null,
      "outputs": []
    },
    {
      "cell_type": "code",
      "source": [
        "!unrar x /content/hamshahri.rar"
      ],
      "metadata": {
        "id": "kKU2qr7mWNCJ"
      },
      "execution_count": null,
      "outputs": []
    },
    {
      "cell_type": "markdown",
      "source": [
        "## **unzipe corpus**"
      ],
      "metadata": {
        "id": "_4Y4iuGmHlhA"
      }
    },
    {
      "cell_type": "code",
      "source": [
        "!unzip /content/hamshahriold/Corpus/Hamshahri-Corpus.zip -d /content/corpus"
      ],
      "metadata": {
        "id": "KP7Pi9ozYoj9"
      },
      "execution_count": null,
      "outputs": []
    },
    {
      "cell_type": "markdown",
      "source": [
        "## **read and split data**"
      ],
      "metadata": {
        "id": "AmIxXW1DHzXN"
      }
    },
    {
      "cell_type": "code",
      "source": [
        "with open('/content/corpus/Hamshahri-Corpus.txt') as f:\n",
        "  data = f.read()\n",
        "\n",
        "data=data.split('.DID')\n",
        "data.pop(0)"
      ],
      "metadata": {
        "id": "FHZFuOpYZPUy"
      },
      "execution_count": null,
      "outputs": []
    },
    {
      "cell_type": "markdown",
      "source": [
        "## **make columns**"
      ],
      "metadata": {
        "id": "XWxIsDOtIKgF"
      }
    },
    {
      "cell_type": "code",
      "source": [
        "DID=[]\n",
        "Date=[]\n",
        "Cat=[]\n",
        "Text=[]\n",
        "for item in data :\n",
        "  text=item.split('\\n')\n",
        "  text[3]=' '.join(text[3:])\n",
        "  DID.append(text[0].replace('\\t',''))\n",
        "  Date.append(text[1].replace('.Date\\t7',''))\n",
        "  Cat.append(text[2].replace('.Cat\\t',''))\n",
        "  Text.append(text[3])\n",
        "  "
      ],
      "metadata": {
        "id": "-Xi6nespcdOA"
      },
      "execution_count": null,
      "outputs": []
    },
    {
      "cell_type": "markdown",
      "source": [
        "## **save to csv format**"
      ],
      "metadata": {
        "id": "rEMlQrRLIXpK"
      }
    },
    {
      "cell_type": "code",
      "source": [
        "import pandas as pd\n",
        "\n",
        "chart=pd.DataFrame(columns=['DID','Date','Cat','text'])\n",
        "\n",
        "chart['DID']=DID\n",
        "chart['Date']=Date\n",
        "chart['Cat']=Cat\n",
        "chart['text']=Text\n",
        "  \n",
        "chart.to_csv('chart.csv', index=False)"
      ],
      "metadata": {
        "id": "QZXYMmxkfCUa"
      },
      "execution_count": null,
      "outputs": []
    },
    {
      "cell_type": "code",
      "source": [
        "chart_data = pd.read_csv('chart.csv')\n",
        "chart_data.head()"
      ],
      "metadata": {
        "id": "7DCVS0uft7ew"
      },
      "execution_count": null,
      "outputs": []
    },
    {
      "cell_type": "markdown",
      "source": [
        "## **save csv file to google dive**"
      ],
      "metadata": {
        "id": "--2ubo2iIgGZ"
      }
    },
    {
      "cell_type": "code",
      "source": [
        "from google.colab import drive\n",
        "drive.mount('/content/drive')\n",
        "\n",
        "!cp -r \"/content/chart.csv\" \"/content/drive/MyDrive\""
      ],
      "metadata": {
        "id": "_rwC8gEC8cpT",
        "colab": {
          "base_uri": "https://localhost:8080/"
        },
        "outputId": "4f8bb0d1-5873-4e18-b75c-d82038d40574"
      },
      "execution_count": 33,
      "outputs": [
        {
          "output_type": "stream",
          "name": "stdout",
          "text": [
            "Mounted at /content/drive\n"
          ]
        }
      ]
    }
  ]
}