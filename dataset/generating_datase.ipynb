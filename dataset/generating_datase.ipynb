{
  "nbformat": 4,
  "nbformat_minor": 0,
  "metadata": {
    "colab": {
      "name": "generating_datase.ipynb",
      "provenance": [],
      "collapsed_sections": [],
      "authorship_tag": "ABX9TyNJjDfWcSn/JM6ytJOBSos2",
      "include_colab_link": true
    },
    "kernelspec": {
      "name": "python3",
      "display_name": "Python 3"
    },
    "language_info": {
      "name": "python"
    }
  },
  "cells": [
    {
      "cell_type": "markdown",
      "metadata": {
        "id": "view-in-github",
        "colab_type": "text"
      },
      "source": [
        "<a href=\"https://colab.research.google.com/github/mehrn79/text_classification/blob/dataset/generating_datase.ipynb\" target=\"_parent\"><img src=\"https://colab.research.google.com/assets/colab-badge.svg\" alt=\"Open In Colab\"/></a>"
      ]
    },
    {
      "cell_type": "markdown",
      "source": [
        "# **Make a csv file**"
      ],
      "metadata": {
        "id": "VDXpG3--F8dS"
      }
    },
    {
      "cell_type": "code",
      "source": [
        "pip install hazm"
      ],
      "metadata": {
        "id": "6dythxUKzYyF",
        "colab": {
          "base_uri": "https://localhost:8080/"
        },
        "outputId": "612d1588-492f-4305-f44e-3fd3bf67c779"
      },
      "execution_count": null,
      "outputs": [
        {
          "output_type": "stream",
          "name": "stdout",
          "text": [
            "Looking in indexes: https://pypi.org/simple, https://us-python.pkg.dev/colab-wheels/public/simple/\n",
            "Collecting hazm\n",
            "  Downloading hazm-0.7.0-py3-none-any.whl (316 kB)\n",
            "\u001b[K     |████████████████████████████████| 316 kB 5.2 MB/s \n",
            "\u001b[?25hCollecting libwapiti>=0.2.1\n",
            "  Downloading libwapiti-0.2.1.tar.gz (233 kB)\n",
            "\u001b[K     |████████████████████████████████| 233 kB 41.9 MB/s \n",
            "\u001b[?25hCollecting nltk==3.3\n",
            "  Downloading nltk-3.3.0.zip (1.4 MB)\n",
            "\u001b[K     |████████████████████████████████| 1.4 MB 42.8 MB/s \n",
            "\u001b[?25hRequirement already satisfied: six in /usr/local/lib/python3.7/dist-packages (from nltk==3.3->hazm) (1.15.0)\n",
            "Building wheels for collected packages: nltk, libwapiti\n",
            "  Building wheel for nltk (setup.py) ... \u001b[?25l\u001b[?25hdone\n",
            "  Created wheel for nltk: filename=nltk-3.3-py3-none-any.whl size=1394487 sha256=9731ca454c6086ca118f6e4e53aadf2d8f58663013023793b6c6aa42fd9554d5\n",
            "  Stored in directory: /root/.cache/pip/wheels/9b/fd/0c/d92302c876e5de87ebd7fc0979d82edb93e2d8d768bf71fac4\n",
            "  Building wheel for libwapiti (setup.py) ... \u001b[?25l\u001b[?25hdone\n",
            "  Created wheel for libwapiti: filename=libwapiti-0.2.1-cp37-cp37m-linux_x86_64.whl size=154725 sha256=44a38b8343cec6683c8f5e00d2e9aad4ec835c0a2c593b85b30d3f17ec76e7fe\n",
            "  Stored in directory: /root/.cache/pip/wheels/ab/b2/5b/0fe4b8f5c0e65341e8ea7bb3f4a6ebabfe8b1ac31322392dbf\n",
            "Successfully built nltk libwapiti\n",
            "Installing collected packages: nltk, libwapiti, hazm\n",
            "  Attempting uninstall: nltk\n",
            "    Found existing installation: nltk 3.7\n",
            "    Uninstalling nltk-3.7:\n",
            "      Successfully uninstalled nltk-3.7\n",
            "Successfully installed hazm-0.7.0 libwapiti-0.2.1 nltk-3.3\n"
          ]
        }
      ]
    },
    {
      "cell_type": "code",
      "source": [
        "from hazm import *\n",
        "import string\n",
        "from string import digits"
      ],
      "metadata": {
        "id": "GEpS5JxpzeZQ"
      },
      "execution_count": null,
      "outputs": []
    },
    {
      "cell_type": "markdown",
      "source": [
        "## **download data**"
      ],
      "metadata": {
        "id": "9B63pijFHPgM"
      }
    },
    {
      "cell_type": "code",
      "execution_count": null,
      "metadata": {
        "id": "5jfwiPXBSh--",
        "colab": {
          "base_uri": "https://localhost:8080/"
        },
        "outputId": "ed49f5cc-c22a-41b5-d226-f8291940123f"
      },
      "outputs": [
        {
          "output_type": "stream",
          "name": "stdout",
          "text": [
            "/usr/local/lib/python3.7/dist-packages/gdown/cli.py:131: FutureWarning: Option `--id` was deprecated in version 4.3.1 and will be removed in 5.0. You don't need to pass it anymore to use a file ID.\n",
            "  category=FutureWarning,\n",
            "Downloading...\n",
            "From: https://drive.google.com/uc?id=1D3yt99D0GcCRCbdKbUQGxbqjkeh91hTg\n",
            "To: /content/hamshahri.rar\n",
            "100% 873M/873M [00:13<00:00, 66.9MB/s]\n"
          ]
        }
      ],
      "source": [
        "! gdown --id 1D3yt99D0GcCRCbdKbUQGxbqjkeh91hTg"
      ]
    },
    {
      "cell_type": "markdown",
      "source": [
        "## **unrar folder**"
      ],
      "metadata": {
        "id": "fv3YxYAtHcPt"
      }
    },
    {
      "cell_type": "code",
      "source": [
        "!pip install unrar"
      ],
      "metadata": {
        "id": "kCTGO1njVqTj",
        "colab": {
          "base_uri": "https://localhost:8080/"
        },
        "outputId": "7e11311b-3b27-4abf-ed54-8885b449b17f"
      },
      "execution_count": null,
      "outputs": [
        {
          "output_type": "stream",
          "name": "stdout",
          "text": [
            "Looking in indexes: https://pypi.org/simple, https://us-python.pkg.dev/colab-wheels/public/simple/\n",
            "Collecting unrar\n",
            "  Downloading unrar-0.4-py3-none-any.whl (25 kB)\n",
            "Installing collected packages: unrar\n",
            "Successfully installed unrar-0.4\n"
          ]
        }
      ]
    },
    {
      "cell_type": "code",
      "source": [
        "!unrar x /content/hamshahri.rar"
      ],
      "metadata": {
        "id": "kKU2qr7mWNCJ",
        "colab": {
          "base_uri": "https://localhost:8080/"
        },
        "outputId": "ccbee317-c869-47a5-ad4e-1f9d1eb6f1e1"
      },
      "execution_count": null,
      "outputs": [
        {
          "output_type": "stream",
          "name": "stdout",
          "text": [
            "\n",
            "UNRAR 5.50 freeware      Copyright (c) 1993-2017 Alexander Roshal\n",
            "\n",
            "\n",
            "Extracting from /content/hamshahri.rar\n",
            "\n",
            "Creating    hamshahriold                                              OK\n",
            "Creating    hamshahriold/CLEF                                         OK\n",
            "Creating    hamshahriold/CLEF/images                                  OK\n",
            "Extracting  hamshahriold/CLEF/images/ar.JPG                              \b\b\b\b  0%\b\b\b\b\b  OK \n",
            "Extracting  hamshahriold/CLEF/images/ar.psd                              \b\b\b\b  0%\b\b\b\b\b  OK \n",
            "Extracting  hamshahriold/CLEF/images/ar2.JPG                             \b\b\b\b  0%\b\b\b\b\b  OK \n",
            "Extracting  hamshahriold/CLEF/images/arrow.jpg                           \b\b\b\b  0%\b\b\b\b\b  OK \n",
            "Extracting  hamshahriold/CLEF/images/basebg1.jpg                         \b\b\b\b  0%\b\b\b\b\b  OK \n",
            "Extracting  hamshahriold/CLEF/images/basebg2.jpg                         \b\b\b\b  0%\b\b\b\b\b  OK \n",
            "Extracting  hamshahriold/CLEF/images/celct_name.gif                      \b\b\b\b  0%\b\b\b\b\b  OK \n",
            "Extracting  hamshahriold/CLEF/images/DBRG.css                            \b\b\b\b  0%\b\b\b\b\b  OK \n",
            "Extracting  hamshahriold/CLEF/images/DBRG.js                             \b\b\b\b  0%\b\b\b\b\b  OK \n",
            "Extracting  hamshahriold/CLEF/images/ELDA logo.gif                       \b\b\b\b  0%\b\b\b\b\b  OK \n",
            "Extracting  hamshahriold/CLEF/images/ELRA-logo_1.gif                     \b\b\b\b  0%\b\b\b\b\b  OK \n",
            "Extracting  hamshahriold/CLEF/images/iran.jpg                            \b\b\b\b  0%\b\b\b\b\b  OK \n",
            "Extracting  hamshahriold/CLEF/images/logo-small.jpg                      \b\b\b\b  0%\b\b\b\b\b  OK \n",
            "Extracting  hamshahriold/CLEF/images/logo.gif                            \b\b\b\b  0%\b\b\b\b\b  OK \n",
            "Extracting  hamshahriold/CLEF/images/logo300.gif                         \b\b\b\b  0%\b\b\b\b\b  OK \n",
            "Extracting  hamshahriold/CLEF/images/Logo_Clairvoyance.gif               \b\b\b\b  0%\b\b\b\b\b  OK \n",
            "Extracting  hamshahriold/CLEF/images/MSR_type300.JPG                     \b\b\b\b  0%\b\b\b\b\b  OK \n",
            "Extracting  hamshahriold/CLEF/images/navbasebg.jpg                       \b\b\b\b  0%\b\b\b\b\b  OK \n",
            "Extracting  hamshahriold/CLEF/images/navspacer.jpg                       \b\b\b\b  0%\b\b\b\b\b  OK \n",
            "Extracting  hamshahriold/CLEF/images/pdf.gif                             \b\b\b\b  0%\b\b\b\b\b  OK \n",
            "Extracting  hamshahriold/CLEF/images/powerpoint.jpg                      \b\b\b\b  0%\b\b\b\b\b  OK \n",
            "Extracting  hamshahriold/CLEF/images/spacer.gif                          \b\b\b\b  0%\b\b\b\b\b  OK \n",
            "Extracting  hamshahriold/CLEF/images/Thumbs.db                           \b\b\b\b  0%\b\b\b\b\b  OK \n",
            "Extracting  hamshahriold/CLEF/images/topbg.jpg                           \b\b\b\b  0%\b\b\b\b\b  OK \n",
            "Extracting  hamshahriold/CLEF/images/topmidspace.jpg                     \b\b\b\b  0%\b\b\b\b\b  OK \n",
            "Extracting  hamshahriold/CLEF/images/topnavbg.jpg                        \b\b\b\b  0%\b\b\b\b\b  OK \n",
            "Extracting  hamshahriold/CLEF/images/untitled.GIF                        \b\b\b\b  0%\b\b\b\b\b  OK \n",
            "Extracting  hamshahriold/CLEF/images/ut.jpg                              \b\b\b\b  0%\b\b\b\b\b  OK \n",
            "Extracting  hamshahriold/CLEF/images/zip.png                             \b\b\b\b  0%\b\b\b\b\b  OK \n",
            "Extracting  hamshahriold/CLEF/index.html                                 \b\b\b\b  0%\b\b\b\b\b  OK \n",
            "Creating    hamshahriold/Corpus                                       OK\n",
            "Extracting  hamshahriold/Corpus/Hamshahri-All (SQL).zip                  \b\b\b\b  0%\b\b\b\b  1%\b\b\b\b  2%\b\b\b\b  3%\b\b\b\b  4%\b\b\b\b  5%\b\b\b\b  6%\b\b\b\b  7%\b\b\b\b  8%\b\b\b\b  9%\b\b\b\b 10%\b\b\b\b 11%\b\b\b\b 12%\b\b\b\b\b  OK \n",
            "Extracting  hamshahriold/Corpus/Hamshahri-Categories.txt                 \b\b\b\b 12%\b\b\b\b\b  OK \n",
            "Extracting  hamshahriold/Corpus/Hamshahri-Corpus.zip                     \b\b\b\b 12%\b\b\b\b 13%\b\b\b\b 14%\b\b\b\b 15%\b\b\b\b 16%\b\b\b\b 17%\b\b\b\b 18%\b\b\b\b 19%\b\b\b\b 20%\b\b\b\b 21%\b\b\b\b 22%\b\b\b\b 23%\b\b\b\b 24%\b\b\b\b 25%\b\b\b\b 26%\b\b\b\b 27%\b\b\b\b 28%\b\b\b\b 29%\b\b\b\b 30%\b\b\b\b\b  OK \n",
            "Extracting  hamshahriold/Corpus/Hamshahri-Query_Judgement.zip            \b\b\b\b 30%\b\b\b\b\b  OK \n",
            "Extracting  hamshahriold/Corpus/Hamshahri-Query_Judgement_old.zip        \b\b\b\b 30%\b\b\b\b\b  OK \n",
            "Extracting  hamshahriold/Corpus/Hamshahri-Sample.txt                     \b\b\b\b 30%\b\b\b\b\b  OK \n",
            "Extracting  hamshahriold/Corpus/PersianStopWords.zip                     \b\b\b\b 30%\b\b\b\b\b  OK \n",
            "Extracting  hamshahriold/fa.htm                                          \b\b\b\b 30%\b\b\b\b\b  OK \n",
            "Creating    hamshahriold/ham2                                         OK\n",
            "Extracting  hamshahriold/ham2/Categories.txt                             \b\b\b\b 30%\b\b\b\b\b  OK \n",
            "Extracting  hamshahriold/ham2/copyright.txt                              \b\b\b\b 30%\b\b\b\b\b  OK \n",
            "Creating    hamshahriold/ham2/corpus                                  OK\n",
            "Extracting  hamshahriold/ham2/corpus/HAM2.rar                            \b\b\b\b 30%\b\b\b\b 31%\b\b\b\b 32%\b\b\b\b 33%\b\b\b\b 34%\b\b\b\b 35%\b\b\b\b 36%\b\b\b\b 37%\b\b\b\b 38%\b\b\b\b 39%\b\b\b\b 40%\b\b\b\b 41%\b\b\b\b 42%\b\b\b\b 43%\b\b\b\b 44%\b\b\b\b 45%\b\b\b\b 46%\b\b\b\b 47%\b\b\b\b 48%\b\b\b\b 49%\b\b\b\b 50%\b\b\b\b 51%\b\b\b\b 52%\b\b\b\b 53%\b\b\b\b 54%\b\b\b\b 55%\b\b\b\b\b  OK \n",
            "Extracting  hamshahriold/ham2/Ham.doc                                    \b\b\b\b 55%\b\b\b\b\b  OK \n",
            "Extracting  hamshahriold/ham2/HAM2-990102.xml                            \b\b\b\b 55%\b\b\b\b\b  OK \n",
            "Extracting  hamshahriold/ham2/hamshahri.dtd                              \b\b\b\b 55%\b\b\b\b\b  OK \n",
            "Extracting  hamshahriold/ham2/Help.txt                                   \b\b\b\b 55%\b\b\b\b\b  OK \n",
            "Creating    hamshahriold/ham2/images                                  OK\n",
            "Extracting  hamshahriold/ham2/images/back.jpg                            \b\b\b\b 55%\b\b\b\b\b  OK \n",
            "Extracting  hamshahriold/ham2/images/background.jpg                      \b\b\b\b 55%\b\b\b\b\b  OK \n",
            "Extracting  hamshahriold/ham2/images/bar-left.jpg                        \b\b\b\b 55%\b\b\b\b\b  OK \n",
            "Extracting  hamshahriold/ham2/images/bar-right.jpg                       \b\b\b\b 55%\b\b\b\b\b  OK \n",
            "Extracting  hamshahriold/ham2/images/down-back.jpg                       \b\b\b\b 55%\b\b\b\b\b  OK \n",
            "Extracting  hamshahriold/ham2/images/down-left.jpg                       \b\b\b\b 55%\b\b\b\b\b  OK \n",
            "Extracting  hamshahriold/ham2/images/down-right.jpg                      \b\b\b\b 55%\b\b\b\b\b  OK \n",
            "Extracting  hamshahriold/ham2/images/down.jpg                            \b\b\b\b 55%\b\b\b\b\b  OK \n",
            "Extracting  hamshahriold/ham2/images/left.jpg                            \b\b\b\b 55%\b\b\b\b\b  OK \n",
            "Extracting  hamshahriold/ham2/images/logo-small-transparent.gif          \b\b\b\b 55%\b\b\b\b\b  OK \n",
            "Extracting  hamshahriold/ham2/images/logo-small.jpg                      \b\b\b\b 55%\b\b\b\b\b  OK \n",
            "Extracting  hamshahriold/ham2/images/logo.jpg                            \b\b\b\b 55%\b\b\b\b\b  OK \n",
            "Extracting  hamshahriold/ham2/images/logo.psd                            \b\b\b\b 55%\b\b\b\b\b  OK \n",
            "Extracting  hamshahriold/ham2/images/pdf.gif                             \b\b\b\b 55%\b\b\b\b\b  OK \n",
            "Extracting  hamshahriold/ham2/images/pdfs.gif                            \b\b\b\b 55%\b\b\b\b\b  OK \n",
            "Extracting  hamshahriold/ham2/images/powerpoint-2.gif                    \b\b\b\b 55%\b\b\b\b\b  OK \n",
            "Extracting  hamshahriold/ham2/images/powerpoint-3.jpg                    \b\b\b\b 55%\b\b\b\b\b  OK \n",
            "Extracting  hamshahriold/ham2/images/powerpoint-3s.jpg                   \b\b\b\b 55%\b\b\b\b\b  OK \n",
            "Extracting  hamshahriold/ham2/images/powerpoint.jpg                      \b\b\b\b 55%\b\b\b\b\b  OK \n",
            "Extracting  hamshahriold/ham2/images/rar.gif                             \b\b\b\b 55%\b\b\b\b\b  OK \n",
            "Extracting  hamshahriold/ham2/images/right.jpg                           \b\b\b\b 55%\b\b\b\b\b  OK \n",
            "Extracting  hamshahriold/ham2/images/txt.gif                             \b\b\b\b 55%\b\b\b\b\b  OK \n",
            "Extracting  hamshahriold/ham2/images/zip.png                             \b\b\b\b 55%\b\b\b\b\b  OK \n",
            "Extracting  hamshahriold/ham2/index.htm                                  \b\b\b\b 55%\b\b\b\b\b  OK \n",
            "Extracting  hamshahriold/ham2/indexold.htm                               \b\b\b\b 55%\b\b\b\b\b  OK \n",
            "Creating    hamshahriold/images                                       OK\n",
            "Extracting  hamshahriold/images/arrow.jpg                                \b\b\b\b 55%\b\b\b\b\b  OK \n",
            "Extracting  hamshahriold/images/back.jpg                                 \b\b\b\b 55%\b\b\b\b\b  OK \n",
            "Extracting  hamshahriold/images/background.jpg                           \b\b\b\b 55%\b\b\b\b\b  OK \n",
            "Extracting  hamshahriold/images/bar-left.jpg                             \b\b\b\b 55%\b\b\b\b\b  OK \n",
            "Extracting  hamshahriold/images/bar-right.jpg                            \b\b\b\b 55%\b\b\b\b\b  OK \n",
            "Extracting  hamshahriold/images/basebg1.jpg                              \b\b\b\b 55%\b\b\b\b\b  OK \n",
            "Extracting  hamshahriold/images/basebg2.jpg                              \b\b\b\b 55%\b\b\b\b\b  OK \n",
            "Extracting  hamshahriold/images/DBRG.css                                 \b\b\b\b 55%\b\b\b\b\b  OK \n",
            "Extracting  hamshahriold/images/DBRG.js                                  \b\b\b\b 55%\b\b\b\b\b  OK \n",
            "Extracting  hamshahriold/images/down-back.jpg                            \b\b\b\b 55%\b\b\b\b\b  OK \n",
            "Extracting  hamshahriold/images/down-left.jpg                            \b\b\b\b 55%\b\b\b\b\b  OK \n",
            "Extracting  hamshahriold/images/down-right.jpg                           \b\b\b\b 55%\b\b\b\b\b  OK \n",
            "Extracting  hamshahriold/images/down.jpg                                 \b\b\b\b 55%\b\b\b\b\b  OK \n",
            "Extracting  hamshahriold/images/iran.jpg                                 \b\b\b\b 55%\b\b\b\b\b  OK \n",
            "Extracting  hamshahriold/images/left.jpg                                 \b\b\b\b 55%\b\b\b\b\b  OK \n",
            "Extracting  hamshahriold/images/logo-small.jpg                           \b\b\b\b 55%\b\b\b\b\b  OK \n",
            "Extracting  hamshahriold/images/logo.jpg                                 \b\b\b\b 55%\b\b\b\b\b  OK \n",
            "Extracting  hamshahriold/images/navbasebg.jpg                            \b\b\b\b 55%\b\b\b\b\b  OK \n",
            "Extracting  hamshahriold/images/navspacer.jpg                            \b\b\b\b 55%\b\b\b\b\b  OK \n",
            "Extracting  hamshahriold/images/pdf.gif                                  \b\b\b\b 55%\b\b\b\b\b  OK \n",
            "Extracting  hamshahriold/images/pdfs.gif                                 \b\b\b\b 55%\b\b\b\b\b  OK \n",
            "Extracting  hamshahriold/images/powerpoint-2.gif                         \b\b\b\b 55%\b\b\b\b\b  OK \n",
            "Extracting  hamshahriold/images/powerpoint-3.jpg                         \b\b\b\b 55%\b\b\b\b\b  OK \n",
            "Extracting  hamshahriold/images/powerpoint-3s.jpg                        \b\b\b\b 55%\b\b\b\b\b  OK \n",
            "Extracting  hamshahriold/images/powerpoint.jpg                           \b\b\b\b 55%\b\b\b\b\b  OK \n",
            "Extracting  hamshahriold/images/right.jpg                                \b\b\b\b 55%\b\b\b\b\b  OK \n",
            "Extracting  hamshahriold/images/spacer.gif                               \b\b\b\b 55%\b\b\b\b\b  OK \n",
            "Extracting  hamshahriold/images/Thumbs.db                                \b\b\b\b 55%\b\b\b\b\b  OK \n",
            "Extracting  hamshahriold/images/topbg.jpg                                \b\b\b\b 55%\b\b\b\b\b  OK \n",
            "Extracting  hamshahriold/images/topmidspace.jpg                          \b\b\b\b 55%\b\b\b\b\b  OK \n",
            "Extracting  hamshahriold/images/topnavbg.jpg                             \b\b\b\b 55%\b\b\b\b\b  OK \n",
            "Extracting  hamshahriold/images/ut.jpg                                   \b\b\b\b 55%\b\b\b\b\b  OK \n",
            "Extracting  hamshahriold/images/zip.png                                  \b\b\b\b 55%\b\b\b\b\b  OK \n",
            "Extracting  hamshahriold/index.html                                      \b\b\b\b 55%\b\b\b\b\b  OK \n",
            "Creating    hamshahriold/Papers                                       OK\n",
            "Extracting  hamshahriold/Papers/CAASL2-Fuzzy.pdf                         \b\b\b\b 55%\b\b\b\b\b  OK \n",
            "Extracting  hamshahriold/Papers/CAASL2-Fuzzy.ppt                         \b\b\b\b 55%\b\b\b\b\b  OK \n",
            "Extracting  hamshahriold/Papers/FuFaIR.ppt                               \b\b\b\b 55%\b\b\b\b 56%\b\b\b\b\b  OK \n",
            "Extracting  hamshahriold/Papers/Hamshahri_Description.pdf                \b\b\b\b 56%\b\b\b\b\b  OK \n",
            "Extracting  hamshahriold/Papers/isspa.pdf                                \b\b\b\b 56%\b\b\b\b\b  OK \n",
            "Extracting  hamshahriold/Papers/isspa.ppt                                \b\b\b\b 56%\b\b\b\b\b  OK \n",
            "Extracting  hamshahriold/Papers/WITID.pdf                                \b\b\b\b 56%\b\b\b\b\b  OK \n",
            "Creating    hamshahriold/Source                                       OK\n",
            "Extracting  hamshahriold/Source/LM-Top 1000.rar                          \b\b\b\b 56%\b\b\b\b\b  OK \n",
            "Extracting  hamshahriold/Source/VectorSpace_All.rar                      \b\b\b\b 56%\b\b\b\b\b  OK \n",
            "Creating    hamshahriold/Temp                                         OK\n",
            "Extracting  hamshahriold/Temp/AssessmentRules.doc                        \b\b\b\b 56%\b\b\b\b\b  OK \n",
            "Extracting  hamshahriold/Temp/CLEF Topics 1-20.xml                       \b\b\b\b 56%\b\b\b\b\b  OK \n",
            "Extracting  hamshahriold/Temp/CLEF Topics 1-65.xml                       \b\b\b\b 56%\b\b\b\b\b  OK \n",
            "Extracting  hamshahriold/Temp/CLEF Topics.xml                            \b\b\b\b 56%\b\b\b\b\b  OK \n",
            "Extracting  hamshahriold/Temp/CLEFGuidelines.zip                         \b\b\b\b 56%\b\b\b\b\b  OK \n",
            "Extracting  hamshahriold/Temp/hamshahri.dtd                              \b\b\b\b 56%\b\b\b\b\b  OK \n",
            "Extracting  hamshahriold/Temp/HamshahriStem.rar                          \b\b\b\b 56%\b\b\b\b 57%\b\b\b\b 58%\b\b\b\b 59%\b\b\b\b 60%\b\b\b\b 61%\b\b\b\b 62%\b\b\b\b 63%\b\b\b\b 64%\b\b\b\b 65%\b\b\b\b 66%\b\b\b\b 67%\b\b\b\b 68%\b\b\b\b 69%\b\b\b\b 70%\b\b\b\b 71%\b\b\b\b 72%\b\b\b\b 73%\b\b\b\b 74%\b\b\b\b\b  OK \n",
            "Extracting  hamshahriold/Temp/Light_persian_stemmer_Revised.zip          \b\b\b\b 74%\b\b\b\b\b  OK \n",
            "Extracting  hamshahriold/Temp/Query-Rel.txt                              \b\b\b\b 74%\b\b\b\b\b  OK \n",
            "Extracting  hamshahriold/Temp/Query.txt                                  \b\b\b\b 74%\b\b\b\b\b  OK \n",
            "Creating    hamshahriold/Temp/Tagged                                  OK\n",
            "Extracting  hamshahriold/Temp/Tagged/TaggedHamshahri.rar                 \b\b\b\b 74%\b\b\b\b 75%\b\b\b\b 76%\b\b\b\b 77%\b\b\b\b 78%\b\b\b\b 79%\b\b\b\b 80%\b\b\b\b 81%\b\b\b\b 82%\b\b\b\b 83%\b\b\b\b 84%\b\b\b\b 85%\b\b\b\b 86%\b\b\b\b 87%\b\b\b\b 88%\b\b\b\b 89%\b\b\b\b 90%\b\b\b\b 91%\b\b\b\b 92%\b\b\b\b 93%\b\b\b\b 94%\b\b\b\b 95%\b\b\b\b 96%\b\b\b\b 97%\b\b\b\b 98%\b\b\b\b 99%\b\b\b\b\b  OK \n",
            "All OK\n"
          ]
        }
      ]
    },
    {
      "cell_type": "markdown",
      "source": [
        "## **unzipe corpus**"
      ],
      "metadata": {
        "id": "_4Y4iuGmHlhA"
      }
    },
    {
      "cell_type": "code",
      "source": [
        "!unzip /content/hamshahriold/Corpus/Hamshahri-Corpus.zip -d /content/corpus\n",
        "!unzip /content/hamshahriold/Corpus/PersianStopWords.zip -d /content/corpus/stopWords"
      ],
      "metadata": {
        "id": "KP7Pi9ozYoj9",
        "colab": {
          "base_uri": "https://localhost:8080/"
        },
        "outputId": "dfbe481d-3332-40b8-b782-9a853fe08930"
      },
      "execution_count": null,
      "outputs": [
        {
          "output_type": "stream",
          "name": "stdout",
          "text": [
            "Archive:  /content/hamshahriold/Corpus/Hamshahri-Corpus.zip\n",
            "  inflating: /content/corpus/Hamshahri-Corpus.txt  \n",
            "Archive:  /content/hamshahriold/Corpus/PersianStopWords.zip\n",
            "  inflating: /content/corpus/stopWords/PersianStopWords.txt  \n"
          ]
        }
      ]
    },
    {
      "cell_type": "markdown",
      "source": [
        "## **read and split data**"
      ],
      "metadata": {
        "id": "AmIxXW1DHzXN"
      }
    },
    {
      "cell_type": "code",
      "source": [
        "with open('/content/corpus/Hamshahri-Corpus.txt') as f:\n",
        "  data = f.read()\n",
        "\n",
        "with open('/content/corpus/stopWords/PersianStopWords.txt') as file:\n",
        "  stopLines = file.readlines()\n",
        "  stopWord = [item.replace('\\n',\"\") for item in stopLines]\n",
        "\n",
        "data=data.split('.DID')\n",
        "data.pop(0)"
      ],
      "metadata": {
        "id": "FHZFuOpYZPUy",
        "colab": {
          "base_uri": "https://localhost:8080/",
          "height": 35
        },
        "outputId": "9c1c2768-15c0-4ce4-aa30-9ac96c8036ed"
      },
      "execution_count": null,
      "outputs": [
        {
          "output_type": "execute_result",
          "data": {
            "text/plain": [
              "''"
            ],
            "application/vnd.google.colaboratory.intrinsic+json": {
              "type": "string"
            }
          },
          "metadata": {},
          "execution_count": 7
        }
      ]
    },
    {
      "cell_type": "code",
      "source": [
        "def cleaning(sentance) :\n",
        "  words= []\n",
        "  cleanSent=[]\n",
        "  stemmer = Stemmer()\n",
        "\n",
        "  words=word_tokenize(sentance)\n",
        "\n",
        "  for wordSent in words :\n",
        "    if wordSent not in stopWord :\n",
        "      stermmering=stemmer.stem(wordSent)\n",
        "      cleanSent.append(stermmering)\n",
        "  \n",
        "  sent =' '.join(map(str, cleanSent))\n",
        "\n",
        "  return sent"
      ],
      "metadata": {
        "id": "YoHzDrtrjvGg"
      },
      "execution_count": null,
      "outputs": []
    },
    {
      "cell_type": "code",
      "source": [
        "def remove_digits(sent):\n",
        "  remove_digits = str.maketrans('', '', digits)\n",
        "  sentance =' '.join([w.translate(remove_digits) for w in sent.split(' ')]) \n",
        "  return sentance\n"
      ],
      "metadata": {
        "id": "IyUgf6YHtMee"
      },
      "execution_count": null,
      "outputs": []
    },
    {
      "cell_type": "markdown",
      "source": [
        "## **make columns**"
      ],
      "metadata": {
        "id": "XWxIsDOtIKgF"
      }
    },
    {
      "cell_type": "code",
      "source": [
        "DID=[]\n",
        "Date=[]\n",
        "Cat=[]\n",
        "Text=[]\n",
        "clean_text=[]\n",
        "for item in data :\n",
        "  text=item.split('\\n')\n",
        "  text[3]=' '.join(text[3:])\n",
        "  DID.append(text[0].replace('\\t',''))\n",
        "  Date.append(text[1].replace('.Date\\t7',''))\n",
        "  Cat.append(text[2].replace('.Cat\\t',''))\n",
        "  Text.append(text[3])\n",
        "\n",
        "  total_text=[]\n",
        "  for elm in text[4:]:\n",
        "    sent=cleaning(remove_digits(elm))\n",
        "    total_text.append(sent.strip())\n",
        "  clean_text.append(' '.join(total_text))\n",
        "  "
      ],
      "metadata": {
        "id": "-Xi6nespcdOA"
      },
      "execution_count": null,
      "outputs": []
    },
    {
      "cell_type": "code",
      "source": [
        "clean_text"
      ],
      "metadata": {
        "id": "e7NPCe_W_ODL"
      },
      "execution_count": null,
      "outputs": []
    },
    {
      "cell_type": "markdown",
      "source": [
        "## **save to csv format**"
      ],
      "metadata": {
        "id": "rEMlQrRLIXpK"
      }
    },
    {
      "cell_type": "code",
      "source": [
        "import pandas as pd\n",
        "\n",
        "chart=pd.DataFrame(columns=['DID','Date','Cat','text','clean_text'])\n",
        "\n",
        "chart['DID']=DID\n",
        "chart['Date']=Date\n",
        "chart['Cat']=Cat\n",
        "chart['text']=Text\n",
        "chart['clean_text']=clean_text\n",
        "  \n",
        "chart.to_csv('chart.csv', index=False)\n"
      ],
      "metadata": {
        "id": "QZXYMmxkfCUa"
      },
      "execution_count": null,
      "outputs": []
    },
    {
      "cell_type": "code",
      "source": [
        "chart_data = pd.read_csv('chart.csv')\n",
        "chart_data.head()"
      ],
      "metadata": {
        "id": "7DCVS0uft7ew",
        "colab": {
          "base_uri": "https://localhost:8080/",
          "height": 206
        },
        "outputId": "bc572815-7947-461d-c62e-93264a3791b3"
      },
      "execution_count": null,
      "outputs": [
        {
          "output_type": "execute_result",
          "data": {
            "text/plain": [
              "   DID     Date    Cat                                               text  \\\n",
              "0  1S1  5\\04\\02  adabh  جاودانگي در زندگي گروهي از طريق هنر  نگاهي به ...   \n",
              "1  2S1  5\\04\\02  adabh  رويدادهاي هنري جهان  نمايشگاه هنر در خدمت ديكت...   \n",
              "2  3S1  5\\04\\02  adabh  برديوار نگارخانه ها  گالري گلستان:  نمايشگاه ط...   \n",
              "3  4S1  5\\04\\02  ejtem  بازي را جدي بگيريم  مطالعه اي مقدماتي پيرامون ...   \n",
              "4  5S1  5\\04\\02  elmfa  تخته سياه و غباري كه سترده نمي شود...  اشاره; ...   \n",
              "\n",
              "                                          clean_text  \n",
              "0  نگاهي نمايشگاه آثار هنري احمد طباطبايي موضوع آ...  \n",
              "1  نمايشگاه هنر خدم ديكتاتور نمايشگاه ارتباط هنر ...  \n",
              "2  گالري گلس نمايشگاه طرح ساخ نقره وسنگ ثريا امان...  \n",
              "3  مطالعه مقدماتي نق بازي زندگي اجتماعي ساماندهي ...  \n",
              "4  اشاره; رغ گستر توسعه روزافزون تكنولوژي آموزشي ...  "
            ],
            "text/html": [
              "\n",
              "  <div id=\"df-0dbe689d-402c-48e1-8732-adde0cad0736\">\n",
              "    <div class=\"colab-df-container\">\n",
              "      <div>\n",
              "<style scoped>\n",
              "    .dataframe tbody tr th:only-of-type {\n",
              "        vertical-align: middle;\n",
              "    }\n",
              "\n",
              "    .dataframe tbody tr th {\n",
              "        vertical-align: top;\n",
              "    }\n",
              "\n",
              "    .dataframe thead th {\n",
              "        text-align: right;\n",
              "    }\n",
              "</style>\n",
              "<table border=\"1\" class=\"dataframe\">\n",
              "  <thead>\n",
              "    <tr style=\"text-align: right;\">\n",
              "      <th></th>\n",
              "      <th>DID</th>\n",
              "      <th>Date</th>\n",
              "      <th>Cat</th>\n",
              "      <th>text</th>\n",
              "      <th>clean_text</th>\n",
              "    </tr>\n",
              "  </thead>\n",
              "  <tbody>\n",
              "    <tr>\n",
              "      <th>0</th>\n",
              "      <td>1S1</td>\n",
              "      <td>5\\04\\02</td>\n",
              "      <td>adabh</td>\n",
              "      <td>جاودانگي در زندگي گروهي از طريق هنر  نگاهي به ...</td>\n",
              "      <td>نگاهي نمايشگاه آثار هنري احمد طباطبايي موضوع آ...</td>\n",
              "    </tr>\n",
              "    <tr>\n",
              "      <th>1</th>\n",
              "      <td>2S1</td>\n",
              "      <td>5\\04\\02</td>\n",
              "      <td>adabh</td>\n",
              "      <td>رويدادهاي هنري جهان  نمايشگاه هنر در خدمت ديكت...</td>\n",
              "      <td>نمايشگاه هنر خدم ديكتاتور نمايشگاه ارتباط هنر ...</td>\n",
              "    </tr>\n",
              "    <tr>\n",
              "      <th>2</th>\n",
              "      <td>3S1</td>\n",
              "      <td>5\\04\\02</td>\n",
              "      <td>adabh</td>\n",
              "      <td>برديوار نگارخانه ها  گالري گلستان:  نمايشگاه ط...</td>\n",
              "      <td>گالري گلس نمايشگاه طرح ساخ نقره وسنگ ثريا امان...</td>\n",
              "    </tr>\n",
              "    <tr>\n",
              "      <th>3</th>\n",
              "      <td>4S1</td>\n",
              "      <td>5\\04\\02</td>\n",
              "      <td>ejtem</td>\n",
              "      <td>بازي را جدي بگيريم  مطالعه اي مقدماتي پيرامون ...</td>\n",
              "      <td>مطالعه مقدماتي نق بازي زندگي اجتماعي ساماندهي ...</td>\n",
              "    </tr>\n",
              "    <tr>\n",
              "      <th>4</th>\n",
              "      <td>5S1</td>\n",
              "      <td>5\\04\\02</td>\n",
              "      <td>elmfa</td>\n",
              "      <td>تخته سياه و غباري كه سترده نمي شود...  اشاره; ...</td>\n",
              "      <td>اشاره; رغ گستر توسعه روزافزون تكنولوژي آموزشي ...</td>\n",
              "    </tr>\n",
              "  </tbody>\n",
              "</table>\n",
              "</div>\n",
              "      <button class=\"colab-df-convert\" onclick=\"convertToInteractive('df-0dbe689d-402c-48e1-8732-adde0cad0736')\"\n",
              "              title=\"Convert this dataframe to an interactive table.\"\n",
              "              style=\"display:none;\">\n",
              "        \n",
              "  <svg xmlns=\"http://www.w3.org/2000/svg\" height=\"24px\"viewBox=\"0 0 24 24\"\n",
              "       width=\"24px\">\n",
              "    <path d=\"M0 0h24v24H0V0z\" fill=\"none\"/>\n",
              "    <path d=\"M18.56 5.44l.94 2.06.94-2.06 2.06-.94-2.06-.94-.94-2.06-.94 2.06-2.06.94zm-11 1L8.5 8.5l.94-2.06 2.06-.94-2.06-.94L8.5 2.5l-.94 2.06-2.06.94zm10 10l.94 2.06.94-2.06 2.06-.94-2.06-.94-.94-2.06-.94 2.06-2.06.94z\"/><path d=\"M17.41 7.96l-1.37-1.37c-.4-.4-.92-.59-1.43-.59-.52 0-1.04.2-1.43.59L10.3 9.45l-7.72 7.72c-.78.78-.78 2.05 0 2.83L4 21.41c.39.39.9.59 1.41.59.51 0 1.02-.2 1.41-.59l7.78-7.78 2.81-2.81c.8-.78.8-2.07 0-2.86zM5.41 20L4 18.59l7.72-7.72 1.47 1.35L5.41 20z\"/>\n",
              "  </svg>\n",
              "      </button>\n",
              "      \n",
              "  <style>\n",
              "    .colab-df-container {\n",
              "      display:flex;\n",
              "      flex-wrap:wrap;\n",
              "      gap: 12px;\n",
              "    }\n",
              "\n",
              "    .colab-df-convert {\n",
              "      background-color: #E8F0FE;\n",
              "      border: none;\n",
              "      border-radius: 50%;\n",
              "      cursor: pointer;\n",
              "      display: none;\n",
              "      fill: #1967D2;\n",
              "      height: 32px;\n",
              "      padding: 0 0 0 0;\n",
              "      width: 32px;\n",
              "    }\n",
              "\n",
              "    .colab-df-convert:hover {\n",
              "      background-color: #E2EBFA;\n",
              "      box-shadow: 0px 1px 2px rgba(60, 64, 67, 0.3), 0px 1px 3px 1px rgba(60, 64, 67, 0.15);\n",
              "      fill: #174EA6;\n",
              "    }\n",
              "\n",
              "    [theme=dark] .colab-df-convert {\n",
              "      background-color: #3B4455;\n",
              "      fill: #D2E3FC;\n",
              "    }\n",
              "\n",
              "    [theme=dark] .colab-df-convert:hover {\n",
              "      background-color: #434B5C;\n",
              "      box-shadow: 0px 1px 3px 1px rgba(0, 0, 0, 0.15);\n",
              "      filter: drop-shadow(0px 1px 2px rgba(0, 0, 0, 0.3));\n",
              "      fill: #FFFFFF;\n",
              "    }\n",
              "  </style>\n",
              "\n",
              "      <script>\n",
              "        const buttonEl =\n",
              "          document.querySelector('#df-0dbe689d-402c-48e1-8732-adde0cad0736 button.colab-df-convert');\n",
              "        buttonEl.style.display =\n",
              "          google.colab.kernel.accessAllowed ? 'block' : 'none';\n",
              "\n",
              "        async function convertToInteractive(key) {\n",
              "          const element = document.querySelector('#df-0dbe689d-402c-48e1-8732-adde0cad0736');\n",
              "          const dataTable =\n",
              "            await google.colab.kernel.invokeFunction('convertToInteractive',\n",
              "                                                     [key], {});\n",
              "          if (!dataTable) return;\n",
              "\n",
              "          const docLinkHtml = 'Like what you see? Visit the ' +\n",
              "            '<a target=\"_blank\" href=https://colab.research.google.com/notebooks/data_table.ipynb>data table notebook</a>'\n",
              "            + ' to learn more about interactive tables.';\n",
              "          element.innerHTML = '';\n",
              "          dataTable['output_type'] = 'display_data';\n",
              "          await google.colab.output.renderOutput(dataTable, element);\n",
              "          const docLink = document.createElement('div');\n",
              "          docLink.innerHTML = docLinkHtml;\n",
              "          element.appendChild(docLink);\n",
              "        }\n",
              "      </script>\n",
              "    </div>\n",
              "  </div>\n",
              "  "
            ]
          },
          "metadata": {},
          "execution_count": 13
        }
      ]
    },
    {
      "cell_type": "markdown",
      "source": [
        "## **save csv file to google dive**"
      ],
      "metadata": {
        "id": "--2ubo2iIgGZ"
      }
    },
    {
      "cell_type": "code",
      "source": [
        "from google.colab import drive\n",
        "drive.mount('/content/drive')\n",
        "\n",
        "!cp -r \"/content/chart.csv\" \"/content/drive/MyDrive\"\n"
      ],
      "metadata": {
        "id": "_rwC8gEC8cpT",
        "colab": {
          "base_uri": "https://localhost:8080/"
        },
        "outputId": "2938133a-72e8-4953-cb8e-790ada83f748"
      },
      "execution_count": null,
      "outputs": [
        {
          "output_type": "stream",
          "name": "stdout",
          "text": [
            "Mounted at /content/drive\n",
            "cp: cannot stat '/content/clean_text_chart.csv': No such file or directory\n"
          ]
        }
      ]
    }
  ]
}
